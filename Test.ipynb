{
  "nbformat": 4,
  "nbformat_minor": 0,
  "metadata": {
    "colab": {
      "provenance": [],
      "authorship_tag": "ABX9TyO1iqnzFOfsv3gRCZq17bBe",
      "include_colab_link": true
    },
    "kernelspec": {
      "name": "python3",
      "display_name": "Python 3"
    },
    "language_info": {
      "name": "python"
    }
  },
  "cells": [
    {
      "cell_type": "markdown",
      "metadata": {
        "id": "view-in-github",
        "colab_type": "text"
      },
      "source": [
        "<a href=\"https://colab.research.google.com/github/Kushal190903/unreliable-news-detection/blob/main/Test.ipynb\" target=\"_parent\"><img src=\"https://colab.research.google.com/assets/colab-badge.svg\" alt=\"Open In Colab\"/></a>"
      ]
    },
    {
      "cell_type": "code",
      "execution_count": 53,
      "metadata": {
        "colab": {
          "base_uri": "https://localhost:8080/"
        },
        "id": "Tn-f4Z0V8hpn",
        "outputId": "f8d498fa-563e-4058-cddd-fc52cc09a582"
      },
      "outputs": [
        {
          "output_type": "stream",
          "name": "stderr",
          "text": [
            "/usr/local/lib/python3.10/dist-packages/transformers/tokenization_utils_base.py:1601: FutureWarning: `clean_up_tokenization_spaces` was not set. It will be set to `True` by default. This behavior will be depracted in transformers v4.45, and will be then set to `False` by default. For more details check this issue: https://github.com/huggingface/transformers/issues/31884\n",
            "  warnings.warn(\n"
          ]
        }
      ],
      "source": [
        "# !pip install langchain-huggingface\n",
        "from keras.models import load_model\n",
        "import numpy as np\n",
        "from langchain_huggingface import HuggingFaceEmbeddings\n",
        "model=load_model(r'/content/unreliable+news+detection+model.keras')\n",
        "embeddings=HuggingFaceEmbeddings(model_name='sentence-transformers/all-MiniLM-L6-v2')\n",
        "\n",
        "def predictnews(news):\n",
        "  vectors=embeddings.embed_query(news)\n",
        "  prediction=model.predict(np.array([vectors]))\n",
        "\n",
        "  return [1-i[0] for i in predictions][0]"
      ]
    },
    {
      "cell_type": "code",
      "source": [
        "predictnews(\"it was reported that his name is kushal \")"
      ],
      "metadata": {
        "colab": {
          "base_uri": "https://localhost:8080/"
        },
        "id": "AFkWd1yYChHg",
        "outputId": "7aab2518-e6bc-423f-a37a-f30ba6e6aeb1"
      },
      "execution_count": 54,
      "outputs": [
        {
          "output_type": "stream",
          "name": "stdout",
          "text": [
            "\u001b[1m1/1\u001b[0m \u001b[32m━━━━━━━━━━━━━━━━━━━━\u001b[0m\u001b[37m\u001b[0m \u001b[1m0s\u001b[0m 180ms/step\n"
          ]
        },
        {
          "output_type": "execute_result",
          "data": {
            "text/plain": [
              "0.2554192543029785"
            ]
          },
          "metadata": {},
          "execution_count": 54
        }
      ]
    },
    {
      "cell_type": "code",
      "source": [
        "print(\"\\t\\t Enter news articles and get confidence score(in percentage) to check reliabilty of the news article\")\n",
        "print(\"\"\"\\nNote: This is only a test of reliability based on factors such as sentiment of the writer, grammatical structure etc.\n",
        "Reliability does not ensure that the news is true .\\n\"\"\")\n",
        "while True:\n",
        "  text=input(\"Enter only text:\")\n",
        "  if text==\"exit\":\n",
        "    break\n",
        "  prediction=predictnews(text)\n",
        "  print(\"Reliable\" if prediction>=0.5 else \"Unreliable\",sep=\"\\t\")\n",
        "  print(\"confidence score for reliable news=\",prediction*100)"
      ],
      "metadata": {
        "colab": {
          "base_uri": "https://localhost:8080/"
        },
        "id": "p7YBpo8u8s_8",
        "outputId": "2a8aeeaa-ac9d-46fc-f279-07c3e80d048e"
      },
      "execution_count": null,
      "outputs": [
        {
          "output_type": "stream",
          "name": "stdout",
          "text": [
            "\t\t Enter news articles and get confidence score(in percentage) to check reliabilty of the news article\n",
            "\n",
            "Note: This is only a test of reliability based on factors such as sentiment of the writer, grammatical structure etc.\n",
            "Reliability does not ensure that the news is true .\n",
            "\n",
            "Enter only text:A day after exit poll results predicted a return of the Congress in Haryana, market guru Shankar Sharma on Sunday compared the grand old party with China's stock market, which has started going up following stimulus push from Beijing. In a tweet. Sharma, the founder of GQuant Investech, said: \"In a stock market sense, BJP is looking like the Indian stock market, and Congress, like the Chinese stock market.\"On Saturday, exit poll results predicted a landslide win for Congress in Haryana and an edge for the party in Jammu and Kashmir. As per C Voter exit polls, Congress is expected to win 50-58 of 90 seats in Haryana, while the BJP, which bagged 40 last time, is likely to settle with just 18-28 seats. If these numbers hold on the counting day, which is Tuesday, the BJP will lose another north Indian state to the opposition after Punjab to AAP, and Himachal to Congress.    The Congress sweep in Haryana was expected considering its gain in the Lok Sabha polls. Not just in Haryana, the grand old party is also ahead in Maharashtra, where assembly polls are expected to be held in mid-November. \n",
            "\u001b[1m1/1\u001b[0m \u001b[32m━━━━━━━━━━━━━━━━━━━━\u001b[0m\u001b[37m\u001b[0m \u001b[1m0s\u001b[0m 19ms/step\n",
            "Reliable\n",
            "confidence score for reliable news= 98.72479755431414\n",
            "Enter only text:French President Emmanuel Macron on Sunday criticized Israeli Prime Minister Benjamin Netanyahu's decision to send troops into ground operations in Lebanon and attack the country. He also called for a halt on arms deliveries to Israel for use in Gaza.“I think that today, the priority is that we return to a political solution, that we stop delivering weapons to fight in Gaza…France is not delivering any. I regret that Prime Minister Netanyahu has made another choice and has taken this responsibility, in particular, for ground operations on Lebanese soil…Lebanon cannot become a new Gaza,” Macron said in an interview with a local media channel, reported AFP.He also reiterated his concern over the conflict in Gaza that is continuing despite repeated calls for a ceasefire.  “I think we are not being heard. I think it is a mistake, including for the security of Israel. The war is leading to hatred,” he said.  Netanyahu hits back Macron's remarks provoked an angry reaction from Netanyahu, who said it is a “shame” that Macron is calling for an arms embargo against Israel.\n",
            "\u001b[1m1/1\u001b[0m \u001b[32m━━━━━━━━━━━━━━━━━━━━\u001b[0m\u001b[37m\u001b[0m \u001b[1m0s\u001b[0m 18ms/step\n",
            "Reliable\n",
            "confidence score for reliable news= 99.66992095578462\n",
            "Enter only text:Fede Valverde and Vinicius Junior strikes helped Real Madrid bounce back from their first defeat since January with a 2-0 win over Villarreal on Saturday in La Liga. Los Blancos lost in the Champions League at Lille but are still unbeaten in the Spanish top flight and moved level with leaders Barcelona, before the Catalans visit Alaves on Sunday. Valverde's deflected effort and a rocket from Vinicius allowed Madrid to put a four-point gap between them and their third-placed opponents, who battled well but came up fractionally short in the capital.Madrid's victory was marred by a late injury to defender Dani Carvajal, who had to be taken off on a stretcher.  \"It seems a serious knee injury, it will be looked at in the coming hours,\" Real Madrid coach Carlo Ancelotti told reporters.  \"The players are sad, worried, because something happened that happens a lot, because of the (busy) calendar, and it happened to a very, very important player for us.\"  Ancelotti said Vinicius would also have medical tests after being taken off late on with discomfort in his shoulder and neck.  The Italian coach started Kylian Mbappe after the French striker had recovered from a thigh problem.  The former Paris Saint-Germain striker could only appear from the bench in Madrid's disappointing midweek display.  Mbappe, who France have not selected for upcoming Nations League fixtures, was quiet at the Santiago Bernabeu as his team ground out victory with a determined, rather than inspiring, performance.  Madrid are still missing German midfielder Toni Kroos, although on this occasion he was watching on from a box.  Mbappe sent an early volley off-target from Luka Modric's corner but it was midfield powerhouse Valverde who broke the deadlock after 14 minutes.  The Uruguayan's drive from distance deflected off Villarreal playmaker Alex Baena and arced beyond the reach of goalkeeper Diego Conde.  The visitors, enjoying a strong start to the season under coach Marcelino Garcia Toral, came close when Nicolas Pepe's header clipped the top of the crossbar.  Mbappe had one further chance, bursting into the area with his electric pace, but goalkeeper Conde managed to dispossess him with an outstretched leg.  Villarreal appealed for a penalty early in the second half when Aurelien Tchouameni, playing at centre-back, pulled down Barry, but the French striker was offside.  Baena hit the side-netting of Andriy Lunin's goal with a free-kick, nearly catching out the Ukrainian goalkeeper standing in for the injured Thibaut Courtois.  Vinicius flashed a shot narrowly wide, before his strike partner Mbappe was replaced with 20 minutes to go by Rodrygo Goes.  Brazil striker Vinicius, who is hoping to win a first Ballon d'Or later in October, netted the second with a superb effort from outside the area, which ripped into the top corner.  Carvajal hurt  In stoppage time, Spanish right-back Carvajal suffered an injury while attempting to clear the ball under pressure from Yeremi Pino.  \"In the end, the result's a less important thing -- Dani's health is what matters,\" Valverde told Real Madrid TV.  \"The game was fine, it was neither very good or bad, it was what we had to do to win, two goals was enough.\"  Villarreal defender Raul Albiol was also concerned about Carvajal.  \"It looked bad... let's hope it's the least (damage) possible, because we all know how important he is for Real Madrid and Spanish football,\" he said.  The centre-back said Madrid were efficient with their finishing and that made the difference.  \"They have a lot of attacking punch and more or less with three chances they had two goals,\" he said.  Earlier, nine-man Celta Vigo earned a 1-0 win at bottom-of-the-table Las Palmas.  The Canary Islanders were unable to record their first win of the season even after Ilaix Moriba and Iago Aspas' red cards for Celta, who climbed to ninth thanks to Borja Iglesias' goal.  Listen to the latest songs, only on JioSaavn.com  Osasuna moved into fifth with a 1-1 draw at Getafe, while Espanyol beat Mallorca 2-1 and Rayo Vallecano won at Valladolid by the same score.\n",
            "\u001b[1m1/1\u001b[0m \u001b[32m━━━━━━━━━━━━━━━━━━━━\u001b[0m\u001b[37m\u001b[0m \u001b[1m0s\u001b[0m 32ms/step\n",
            "Reliable\n",
            "confidence score for reliable news= 99.81897760881111\n",
            "Enter only text:With Bigg Boss 18 set to premiere on October 6, 2024, the excitement among fans is reaching fever pitch. The much-anticipated season, hosted once again by Salman Khan, promises a star-studded lineup and fresh twists that have everyone buzzing.  Here’s the confirmed list of contestants for Bigg Boss 18:  Vivian Dsena Eisha Singh Nyrraa Banerji Karan Veer Mehra Chaahat Pandey (Nath actress) Avinash Mishra (Nath actor) Shehzada Dhami Tajinder Singh Bagga Arfeen Khan (Hrithik Roshan's life coach) Sara Arfeen Khan (actress, Arfeen's wife) Rajat Dalal (influencer) Muskan Bamne Chum Darang (Badhai Do actress) Shilpa Shirodkar Alice Kaushik (Kunwar Dhillon's girlfriend) Shrutika Arjun Raaj Hema Sharma aka “Viral Bhabhi” Gunaratna Sadavarte (top Mumbai lawyer) Salman Khan, who has hosted the show for 14 seasons, shared his enthusiasm for the new edition. “When I was told about the format of Bigg Boss 18, I was instantly intrigued. The fresh twist in the show will make it even more exciting, and I can't wait to explore this new chapter as the host,” said the actor. ALSO READ: Bigg Boss 18: Salman Khan shoots for the grand premiere, see pics  This year’s theme, \"Time Ka Taandav\", will focus on the concepts of past, present, and future. Contestants like Eisha Singh will face time-themed tasks and challenges, creating a unique experience for the audience. Additionally, the return of some notorious contestants from past seasons is expected to stir up drama, adding nostalgia and excitement to the new season.\n",
            "\u001b[1m1/1\u001b[0m \u001b[32m━━━━━━━━━━━━━━━━━━━━\u001b[0m\u001b[37m\u001b[0m \u001b[1m0s\u001b[0m 21ms/step\n",
            "Unreliable\n",
            "confidence score for reliable news= 24.042832851409912\n",
            "Enter only text:SpaceX will launch NASA's highly anticipated Europa Clipper mission on Thursday (Oct. 10), and you can watch the action live.  A SpaceX Falcon Heavy rocket is scheduled to lift off from NASA's Kennedy Space Center (KSC) in Florida on Thursday at 12:31 p.m. EDT (1631 GMT), kicking off the $5 billion Europa Clipper mission, which will assess the habitability of Jupiter's ocean moon Europa.  You can watch the launch — the 10th-ever for the powerful Falcon Heavy — live here at Space.com, courtesy of NASA, or directly via the space agency. There are a few prelaunch activities to follow as well; here's a rundown of the schedule.On Tuesday (Oct. 8) at 3:30 p.m. EDT (1930 GMT), NASA will host a briefing to discuss the science goals of Europa Clipper, which will reach Jupiter's orbit in 2030 and study Europa over dozens of close flybys.  The briefing participants are:  Gina DiBraccio, acting director, Planetary Science Division, NASA Headquarters Robert Pappalardo, project scientist, Europa Clipper, NASA's JPL (Jet Propulsion Laboratory) Haje Korth, deputy project scientist, Europa Clipper, Applied Physics Laboratory (APL) Cynthia Phillips, project staff scientist, Europa Clipper, NASA JPLA \"NASA Social\" panel, held at KSC, will stream on Wednesday (Oct. 9) at 2:00 p.m. EDT (1800 GMT). During such events, agency scientists, engineers and officials field questions from the public. You can submit a question to NASA's X, Facebook and YouTube accounts using the #AskNASA hashtag.  The panelists are:Kate Calvin, chief scientist and senior climate advisor, NASA Headquarters Caley Burke, Flight Design Analyst, NASA's Launch Services Program Erin Leonard, project staff scientist, Europa Clipper, NASA JPL Juan Pablo León, systems testbed engineer, Europa Clipper, NASA JPL Elizabeth Turtle, principal investigator, Europa Imaging System instrument, Europa Clipper, APL\n",
            "\u001b[1m1/1\u001b[0m \u001b[32m━━━━━━━━━━━━━━━━━━━━\u001b[0m\u001b[37m\u001b[0m \u001b[1m0s\u001b[0m 20ms/step\n",
            "Reliable\n",
            "confidence score for reliable news= 98.7241929396987\n",
            "Enter only text:Even the government concedes that a husband does not have a right to violate his wife’s consent. But to use the word rape to describe such a violation is “excessively harsh” and would “shake the institution of marriage”. The government was making its stand clear on the contentious issue of criminalising marital rape through a 49-page affidavit submitted earlier this week to the Supreme Court.In a nutshell, the government wants you to know that raping a wife, or to use its gobbledygook, “violating her consent” is bad. However, the state will not make it a criminal offence; it won’t even call it rape in the larger overwhelming public interest in “preserving the marital institution”.Only 32 countries continue to live in an era where raping your wife is legal. India, along with Afghanistan, Pakistan and Senegal, is one of them.If a marriage is a union between two equals, a man and a woman, then what is this fragile institution that seems to be threatened each time a right is granted to women?  It was threatened when the domestic violence law was brought in over a decade ago. Even now in court, judges complain of how “disgruntled housewives” misuse the law, or lecture them for seeking alimony when they are “able-bodied”.Earlier in the eighties, the institution of marriage was threatened not by the “kitchen accidents” that were routinely claiming the lives of young brides but by the tougher provisions added to the anti-dowry law. Of course, dowry continues and the institution of marriage endures.  “There is a reasonable expectation of sex within a marriage,” says senior advocate Rebecca John who served as amicus curie in an earlier Delhi high court petition that look at whether marital rape should be criminalised or not. “But this expectation cannot be forced and must come willingly.”In May 2022, a two-judge Delhi high court bench could not agree on whether marital rape should be criminalised or not. The court was hearing a bunch of petitions questioning the legal definition of rape, which under Indian law, makes the consent of a wife immaterial provided she is over 18-years-old.The petitions before the Delhi high court questioned this blanket immunity to husbands on the grounds that it went against the constitutional rights of women to equality and dignity, sexual autonomy and bodily integrity.  Justice Rajiv Shakdher was in favour of removing the exception. Consensual sex, he said in his judgment, is at the “heart of a healthy and joyful marital relationship”. Non-consensual sex, on the other hand, is the “antithesis of what matrimony stands for in modern times” and destroys her “dignity, bodily integrity, autonomy and agency and the choice to procreate and even not to procreate”.  Justice C Hari Shanker agreed there could be no “compromise on sexual autonomy of women”. But added somewhat cryptically, “just as every incident of taking of the life by one, of another, is not murder, every incident of non-consensual sex of a man with a man is not rape.”Both judges agreed that larger questions of law were involved that would be better addressed by the Supreme Court. And that is where the matter now lies.  Welcome to 2024\n",
            "\u001b[1m1/1\u001b[0m \u001b[32m━━━━━━━━━━━━━━━━━━━━\u001b[0m\u001b[37m\u001b[0m \u001b[1m0s\u001b[0m 29ms/step\n",
            "Reliable\n",
            "confidence score for reliable news= 53.1996488571167\n",
            "Enter only text:On October 3, 34 years ago, the two German states became one. It was a joyous moment for the whole country. I fondly remember that day — a day I never would have thought I would experience. On that day in 1990, Germany became another country — bigger for sure, but more importantly, more diverse, more interesting. And through the last 34 years, this new Germany has developed strategic partnerships with some countries around the world. India is unique among these few select countries. We are proud and happy about the impressive dynamics in our relations.In a couple of weeks from now the 7th Indian-German Intergovernmental Consultations (IGC) will take place. Federal Chancellor Olaf Scholz will come to Delhi with a delegation of several ministers and deputy ministers. Such consultations on cabinet level are the closest format which we only share with a handful of trusted partners. Since the first meeting in 2011, the range and achievements of the IGC have grown exponentially. A glimpse of only the most relevant areas shows the breadth and diversity of our ties.Security: India and Germany are becoming reliable security partners in the Indo-Pacific region. This summer both our Air Forces partnered up to conduct the first ever joint exercise “Tarang Shakti” in India. Two German Navy vessels are coming for a port call to Goa at the end of this month, on their way through the Indo-Pacific and after a bilateral exercise with both Eastern and Western Naval Command. Germany is becoming more engaged than ever in this part of the world — as a strong and reliable partner for India in providing a safe and secure environment for the benefit of all. This partnership builds on our increased defence cooperation. Indian-German defence trade volume has increased sevenfold from 2021 to 2023 (from 34 million EUR to 2,136 million EUR).Sustainable development: Climate action is another important part of Indo-German cooperation. Together, our countries have created the Green and Sustainable Development Partnership (GSDP) to protect the environment and to work towards the Sustainable Development Goals. We cooperate on energy transition, which is key to mitigate the climate crisis. India and Germany successfully fight against other environmental challenges, we clean up polluted spaces and preserve biodiversity.  Science and technology: This year, India and Germany celebrate the 50th anniversary of science and technology cooperation. Half a century of cooperation that greatly benefits both our countries. The Indo-German Science and Technology Center funds industrial research and incubates numerous successful prototypes. Thanks to some 500 cooperation partnerships between Indian and German universities, academic exchange is flourishing. Looking ahead, we want to further increase cooperation in scientific key areas with a new science and technology roadmap.\n",
            "\u001b[1m1/1\u001b[0m \u001b[32m━━━━━━━━━━━━━━━━━━━━\u001b[0m\u001b[37m\u001b[0m \u001b[1m0s\u001b[0m 24ms/step\n",
            "Unreliable\n",
            "confidence score for reliable news= 1.0118067264556885\n"
          ]
        }
      ]
    },
    {
      "cell_type": "code",
      "source": [],
      "metadata": {
        "id": "-8I3kOfB8yMX"
      },
      "execution_count": null,
      "outputs": []
    }
  ]
}
